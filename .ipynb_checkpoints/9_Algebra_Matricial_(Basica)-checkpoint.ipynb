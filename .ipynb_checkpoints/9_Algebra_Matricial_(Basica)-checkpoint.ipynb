{
 "cells": [
  {
   "cell_type": "markdown",
   "metadata": {
    "colab_type": "text",
    "id": "view-in-github"
   },
   "source": [
    "<a href=\"https://colab.research.google.com/github/HaydeePeruyero/Geometria-Analitica-1/blob/master/9_Algebra_Matricial_(Basica).ipynb\" target=\"_parent\"><img src=\"https://colab.research.google.com/assets/colab-badge.svg\" alt=\"Open In Colab\"/></a>"
   ]
  },
  {
   "cell_type": "markdown",
   "metadata": {
    "colab_type": "text",
    "id": "8GzSmajaV3XW"
   },
   "source": [
    "# Álgebra Matricial con `NumPy`"
   ]
  },
  {
   "cell_type": "markdown",
   "metadata": {
    "colab_type": "text",
    "id": "mchI7zB_jEic"
   },
   "source": [
    "En este apartado presentamos una manera de cómo realizar operaciones básicas con matrices en Python."
   ]
  },
  {
   "cell_type": "markdown",
   "metadata": {
    "colab_type": "text",
    "id": "TDukdpX1Wlbw"
   },
   "source": [
    "Normalmente se nos define una matriz (real) como un arreglo rectangular de números reales. Aunque esto es correcto y pensarlo así resulta muy útil en la práctica, además de concordar en cierto modo con la sintaxis que utiliza Python para trabajar con ellas, se presenta a continuación una definición un tanto más formal que creemos ayudará al alumno a entender futuras generalizaciones.\n",
    "\n",
    "**Definición.** Una matriz real $M$ de tamaño $m \\times n$ es una función\n",
    "    \\begin{eqnarray*}\n",
    "        M: I_{m} \\times I_{n} \\,&\\longrightarrow&\\, \\mathbb{R} \\\\\n",
    "            (i,j) \\,&\\longmapsto&\\, M(i,j) \\equiv M_{ij},\n",
    "    \\end{eqnarray*}\n",
    "\n",
    "donde $\\,I_{m}=\\{1,\\ldots,m\\}\\,$ e $\\,I_{n}=\\{1,\\ldots,n\\}\\,$ son el conjunto de índices de $m$ y $n$ elementos, respectivamente."
   ]
  },
  {
   "cell_type": "markdown",
   "metadata": {
    "colab_type": "text",
    "id": "bAd7mNc9aXoy"
   },
   "source": [
    "Si bien Python permite trabajar con matrices simbólicas, de momento nos centraremos en matrices númericas, es decir, con entradas enteras y flotantes. Para esto, como antes, primero debemos importar el módulo de `NumPy`. \n",
    "\n",
    "**Sintaxis.** Para declarar una matriz en Python vía el módulo de `NumPy` utilizamos un sintaxis análoga a la usada para escribir `arrays`."
   ]
  },
  {
   "cell_type": "code",
   "execution_count": 2,
   "metadata": {
    "colab": {},
    "colab_type": "code",
    "id": "pp8Rly51V1lw"
   },
   "outputs": [
    {
     "name": "stdout",
     "output_type": "stream",
     "text": [
      "[[11 12]\n",
      " [21 22]] \n",
      "\n",
      "[[11 12 13]\n",
      " [21 22 23]\n",
      " [31 32 33]] \n",
      "\n",
      "[[1]\n",
      " [2]\n",
      " [3]]\n"
     ]
    }
   ],
   "source": [
    "import numpy as np\n",
    "\n",
    "A = np.matrix([[11, 12], [21, 22]])\n",
    "B = np.matrix([[11, 12, 13], [21, 22, 23], [31, 32, 33]])\n",
    "C = np.matrix([[1], [2], [3]])\n",
    "print(A, '\\n') # Usamos print() para visualizar las matrices que acabamos de definir\n",
    "print(B, '\\n') # Recordemos que \\n 'imprime' una nueva línea\n",
    "print(C)"
   ]
  },
  {
   "cell_type": "markdown",
   "metadata": {
    "colab_type": "text",
    "id": "Iz6c_zUanJaZ"
   },
   "source": [
    "## Multiplicación por Escalar\n",
    "\n",
    "Para multiplicar una matriz por un escalar (real) en `NumPy` se utiliza el operador `*`."
   ]
  },
  {
   "cell_type": "code",
   "execution_count": 3,
   "metadata": {
    "colab": {},
    "colab_type": "code",
    "id": "UoskY7pRnIXr"
   },
   "outputs": [
    {
     "name": "stdout",
     "output_type": "stream",
     "text": [
      "[[5 5 5]\n",
      " [5 5 5]\n",
      " [5 5 5]] \n",
      "\n",
      "[[-1 -1 -1]\n",
      " [-1 -1 -1]\n",
      " [-1 -1 -1]] \n",
      "\n",
      "[[0 0 0]\n",
      " [0 0 0]\n",
      " [0 0 0]]\n"
     ]
    }
   ],
   "source": [
    "import numpy as np\n",
    "\n",
    "A1 = np.matrix([[1, 1 , 1], [1, 1, 1], [1, 1, 1]])\n",
    "print(5*A1, '\\n')\n",
    "print((-1)*A1, '\\n')\n",
    "print(0*A1)"
   ]
  },
  {
   "cell_type": "markdown",
   "metadata": {
    "colab_type": "text",
    "id": "zr9jUuLPjaVl"
   },
   "source": [
    "## Suma (Resta)\n",
    "\n",
    "El módulo de `NumPy` admite dos maneras distintas de sumar (restar) matrices, una utilizando el operador `+` (`-`) y otra con la función `add` (`subtract`).\n",
    "\n",
    "* Recordemos que la suma (resta) matricial está definida solamente para matrices con la misma dimensión. "
   ]
  },
  {
   "cell_type": "code",
   "execution_count": 4,
   "metadata": {
    "colab": {},
    "colab_type": "code",
    "id": "SrC5AcR_jePb"
   },
   "outputs": [
    {
     "name": "stdout",
     "output_type": "stream",
     "text": [
      "Primera manera:\n",
      "\n",
      "[[0 0 0]\n",
      " [0 0 0]] \n",
      "\n",
      "[[2 4 6]\n",
      " [4 6 2]] \n",
      "\n",
      "Segunda manera:\n",
      "\n",
      "[[0 0 0]\n",
      " [0 0 0]] \n",
      "\n",
      "[[2 4 6]\n",
      " [4 6 2]]\n"
     ]
    }
   ],
   "source": [
    "import numpy as np\n",
    "\n",
    "A2 = np.matrix([[1, 2 , 3], [2, 3, 1]])\n",
    "B2 = np.matrix([[-1, -2 , -3], [-2, -3, -1]])\n",
    "\n",
    "# Primera manera:\n",
    "print('Primera manera:\\n')\n",
    "print(A2 + B2, '\\n')\n",
    "print(A2 - B2, '\\n')\n",
    "\n",
    "# Segunda manera:\n",
    "print('Segunda manera:\\n')\n",
    "print(np.add(A2, B2), '\\n')\n",
    "print(np.subtract(A2, B2))"
   ]
  },
  {
   "cell_type": "markdown",
   "metadata": {
    "colab_type": "text",
    "id": "GTkzIi3Rouhh"
   },
   "source": [
    "## Multiplicación\n",
    "\n",
    "El módulo de `NumPy` admite dos maneras distintas de multiplicar matrices, una utilizando el operador `*` y otra con la función `dot`.\n",
    "\n",
    "* Recordemos que la multiplicación matricial está definida solamente entre matrices tales que el número de columnas del primer término de la multiplicación coincide con el número de filas del segundo."
   ]
  },
  {
   "cell_type": "code",
   "execution_count": 5,
   "metadata": {
    "colab": {},
    "colab_type": "code",
    "id": "NOET3_SSotGP"
   },
   "outputs": [
    {
     "name": "stdout",
     "output_type": "stream",
     "text": [
      "Primera manera:\n",
      "\n",
      "[[ 6  6]\n",
      " [-6 -6]] \n",
      "\n",
      "Segunda manera:\n",
      "\n",
      "[[ 6  6]\n",
      " [-6 -6]] \n",
      "\n"
     ]
    }
   ],
   "source": [
    "import numpy as np\n",
    "\n",
    "A3 = np.matrix([[1, 2 , 3], [-2, -3, -1]])\n",
    "B3 = np.matrix([[1, 1], [1, 1], [1, 1]])\n",
    "\n",
    "# Primera manera:\n",
    "print('Primera manera:\\n')\n",
    "print(A3*B3, '\\n')\n",
    "\n",
    "# Segunda manera:\n",
    "print('Segunda manera:\\n')\n",
    "print(np.dot(A3, B3), '\\n')"
   ]
  },
  {
   "cell_type": "markdown",
   "metadata": {
    "colab_type": "text",
    "id": "H30cYRvGrs7A"
   },
   "source": [
    "## Determinante\n",
    "\n",
    "Para calcular el determinante de una matriz en `NumPy` debemos utilizar el la función `det` del submódulo `linalg`. Este submódulo nos proveé diversas herramientas para manipular y realizar operaciones más 'sofisticadas' con matrices.\n",
    "\n",
    "* Recordemos que el determinante solamente está definida para matrices cuadradas."
   ]
  },
  {
   "cell_type": "code",
   "execution_count": 6,
   "metadata": {
    "colab": {},
    "colab_type": "code",
    "id": "zgmkSljPs6Vw"
   },
   "outputs": [
    {
     "name": "stdout",
     "output_type": "stream",
     "text": [
      "0.0\n",
      "6.0\n",
      "1.0\n"
     ]
    }
   ],
   "source": [
    "import numpy as np\n",
    "\n",
    "A4 = np.matrix([[0, -1], [0, 0]])\n",
    "\n",
    "B4 = np.matrix([[1, 1, 1], [0, 2, 2], [0, 0, 3]])\n",
    "\n",
    "C4 = np.matrix([[1, 1, 1, 1, 1, 1, 1, 1, 1, 1], \n",
    "                [0, 1, 1, 1, 1, 1, 1, 1, 1, 1],\n",
    "                [0, 0, 1, 1, 1, 1, 1, 1, 1, 1],\n",
    "                [0, 0, 0, 1, 1, 1, 1, 1, 1, 1],\n",
    "                [0, 0, 0, 0, 1, 1, 1, 1, 1, 1],\n",
    "                [0, 0, 0, 0, 0, 1, 1, 1, 1, 1],\n",
    "                [0, 0, 0, 0, 0, 0, 1, 1, 1, 1],\n",
    "                [0, 0, 0, 0, 0, 0, 0, 1, 1, 1],\n",
    "                [0, 0, 0, 0, 0, 0, 0, 0, 1, 1],\n",
    "                [0, 0, 0, 0, 0, 0, 0, 0, 0, 1],])\n",
    "\n",
    "\n",
    "print(np.linalg.det(A4))\n",
    "print(np.linalg.det(B4))\n",
    "print(np.linalg.det(C4))"
   ]
  },
  {
   "cell_type": "markdown",
   "metadata": {
    "colab_type": "text",
    "id": "dAb_KxtBvBxK"
   },
   "source": [
    "## Matriz Inversa\n",
    "\n",
    "Si una matriz es invertible, para calcular su inversa en `NumPy` podemos utilizar la función `inv` del submódulo `linalg`."
   ]
  },
  {
   "cell_type": "code",
   "execution_count": 7,
   "metadata": {
    "colab": {},
    "colab_type": "code",
    "id": "4XwOMdYivgZY",
    "scrolled": true
   },
   "outputs": [
    {
     "name": "stdout",
     "output_type": "stream",
     "text": [
      "[[ 1.         -0.5         0.        ]\n",
      " [ 0.          0.5        -0.33333333]\n",
      " [ 0.          0.          0.33333333]] \n",
      "\n",
      "[[ 1. -1.  0.  0.  0.  0.  0.  0.  0.  0.]\n",
      " [ 0.  1. -1.  0.  0.  0.  0.  0.  0.  0.]\n",
      " [ 0.  0.  1. -1.  0.  0.  0.  0.  0.  0.]\n",
      " [ 0.  0.  0.  1. -1.  0.  0.  0.  0.  0.]\n",
      " [ 0.  0.  0.  0.  1. -1.  0.  0.  0.  0.]\n",
      " [ 0.  0.  0.  0.  0.  1. -1.  0.  0.  0.]\n",
      " [ 0.  0.  0.  0.  0.  0.  1. -1.  0.  0.]\n",
      " [ 0.  0.  0.  0.  0.  0.  0.  1. -1.  0.]\n",
      " [ 0.  0.  0.  0.  0.  0.  0.  0.  1. -1.]\n",
      " [ 0.  0.  0.  0.  0.  0.  0.  0.  0.  1.]]\n"
     ]
    }
   ],
   "source": [
    "import numpy as np\n",
    "\n",
    "# A5 = np.matrix([[0, -1], [0, 0]])\n",
    "\n",
    "B5 = np.matrix([[1, 1, 1], [0, 2, 2], [0, 0, 3]])\n",
    "\n",
    "C5 = np.matrix([[1, 1, 1, 1, 1, 1, 1, 1, 1, 1], \n",
    "                [0, 1, 1, 1, 1, 1, 1, 1, 1, 1],\n",
    "                [0, 0, 1, 1, 1, 1, 1, 1, 1, 1],\n",
    "                [0, 0, 0, 1, 1, 1, 1, 1, 1, 1],\n",
    "                [0, 0, 0, 0, 1, 1, 1, 1, 1, 1],\n",
    "                [0, 0, 0, 0, 0, 1, 1, 1, 1, 1],\n",
    "                [0, 0, 0, 0, 0, 0, 1, 1, 1, 1],\n",
    "                [0, 0, 0, 0, 0, 0, 0, 1, 1, 1],\n",
    "                [0, 0, 0, 0, 0, 0, 0, 0, 1, 1],\n",
    "                [0, 0, 0, 0, 0, 0, 0, 0, 0, 1],])\n",
    "\n",
    "\n",
    "# print(np.linalg.inv(A5))\n",
    "print(np.linalg.inv(B5), '\\n')\n",
    "print(np.linalg.inv(C5))"
   ]
  },
  {
   "cell_type": "code",
   "execution_count": 8,
   "metadata": {},
   "outputs": [
    {
     "name": "stdout",
     "output_type": "stream",
     "text": [
      "[[ 1.         -0.5         0.        ]\n",
      " [ 0.          0.5        -0.33333333]\n",
      " [ 0.          0.          0.33333333]]\n"
     ]
    }
   ],
   "source": [
    "M=np.linalg.inv(B5)\n",
    "print(M)"
   ]
  },
  {
   "cell_type": "code",
   "execution_count": 9,
   "metadata": {},
   "outputs": [
    {
     "name": "stdout",
     "output_type": "stream",
     "text": [
      "[[1. 0. 0.]\n",
      " [0. 1. 0.]\n",
      " [0. 0. 1.]]\n"
     ]
    }
   ],
   "source": [
    "print(M*B5)\n"
   ]
  },
  {
   "cell_type": "markdown",
   "metadata": {
    "colab_type": "text",
    "id": "9z1nfgnLwoyO"
   },
   "source": [
    "## Matriz Traspuesta\n",
    "\n",
    "Para calcular la traspuesta de una matriz en `NumPy` podemos utilizar la función `transpose`."
   ]
  },
  {
   "cell_type": "code",
   "execution_count": 10,
   "metadata": {
    "colab": {},
    "colab_type": "code",
    "id": "Me1DC8L0ypkh"
   },
   "outputs": [
    {
     "name": "stdout",
     "output_type": "stream",
     "text": [
      "[[1 2]] \n",
      "\n",
      "[[1]\n",
      " [2]]\n"
     ]
    }
   ],
   "source": [
    "import numpy as np\n",
    "\n",
    "A6 = np.matrix([1, 2])\n",
    "print(A6, '\\n')\n",
    "print(np.transpose(A6))"
   ]
  },
  {
   "cell_type": "code",
   "execution_count": 12,
   "metadata": {
    "colab": {},
    "colab_type": "code",
    "id": "uT-rN8auzeJW"
   },
   "outputs": [
    {
     "name": "stdout",
     "output_type": "stream",
     "text": [
      "[[1]\n",
      " [2]] \n",
      "\n",
      "[[1 2]]\n"
     ]
    }
   ],
   "source": [
    "import numpy as np\n",
    "\n",
    "B6 = np.matrix([[1], [2]])\n",
    "print(B6, '\\n')\n",
    "print(np.transpose(B6))"
   ]
  },
  {
   "cell_type": "code",
   "execution_count": 13,
   "metadata": {
    "colab": {},
    "colab_type": "code",
    "id": "JJCU6fWgzhr-"
   },
   "outputs": [
    {
     "name": "stdout",
     "output_type": "stream",
     "text": [
      "[[11 12 13 14 15]\n",
      " [21 22 23 24 25]\n",
      " [31 32 33 34 35]] \n",
      "\n",
      "[[11 21 31]\n",
      " [12 22 32]\n",
      " [13 23 33]\n",
      " [14 24 34]\n",
      " [15 25 35]]\n"
     ]
    }
   ],
   "source": [
    "import numpy as np\n",
    "\n",
    "B6 = np.matrix([[11, 12, 13, 14, 15], [21, 22, 23, 24, 25], [31, 32, 33, 34, 35]])\n",
    "print(B6, '\\n')\n",
    "print(np.transpose(B6))"
   ]
  },
  {
   "cell_type": "markdown",
   "metadata": {
    "colab_type": "text",
    "id": "5OY3lSf4z_Lw"
   },
   "source": [
    "## Solución de Sistemas de Ecuaciones Lineales\n",
    "\n",
    "Una de las herramientas más útiles del submódulo `linalg` es la función `solve`, la cual nos permite encontrar (si existe) una solución $x$ a un sistema de ecuaciones\n",
    "    \\begin{equation*}\n",
    "        Mx = b,\n",
    "    \\end{equation*}\n",
    "\n",
    "donde $M$ es una matriz cuadrada de tamaño $\\,n \\times n\\,$ y $\\,x,b\\,$ son vectores columna de tamaño $n \\times 1$.\n",
    "\n",
    "* La función `solve` recibe dos argumentos, el primero debe ser la matriz $M$ y el segundo el vector $b$. En caso de existir solución, esta función retorna el vector solución $x$."
   ]
  },
  {
   "cell_type": "markdown",
   "metadata": {
    "colab_type": "text",
    "id": "DbUjbfjz23-k"
   },
   "source": [
    "**Ejemplo.** Consideremos el sistema de ecuaciones\n",
    "    \\begin{align*}\n",
    "        2x_{1} - x_{2} \\,&= \\ \\ \\ 1, \\\\ \n",
    "        -x_{1} + x_{2} \\,&= -1,\n",
    "    \\end{align*}\n",
    "el cual puede escribirse de manera matricial por\n",
    "    \\begin{equation*}\n",
    "        \\left(\n",
    "            \\begin{array}{rr}\n",
    "                2 & -1 \\\\\n",
    "                -1 & 1 \\\\\n",
    "            \\end{array}\n",
    "        \\right)\n",
    "        \\left(\n",
    "            \\begin{array}{c}\n",
    "                x_{1} \\\\\n",
    "                x_{2} \\\\\n",
    "            \\end{array}\n",
    "        \\right)\n",
    "            =\n",
    "        \\left(\n",
    "            \\begin{array}{r}\n",
    "                1 \\\\\n",
    "                -1 \\\\\n",
    "            \\end{array}\n",
    "        \\right).\n",
    "    \\end{equation*}\n",
    "Por tanto, en este caso se tiene que\n",
    "    \\begin{equation*}\n",
    "        M = \\left(\n",
    "            \\begin{array}{rr}\n",
    "                2 & -1 \\\\\n",
    "                -1 & 1 \\\\\n",
    "            \\end{array}\n",
    "        \\right) \n",
    "            \\qquad \\text{y} \\qquad\n",
    "        b = \\left(\n",
    "            \\begin{array}{r}\n",
    "                1 \\\\\n",
    "                -1 \\\\\n",
    "            \\end{array}\n",
    "        \\right).\n",
    "    \\end{equation*}"
   ]
  },
  {
   "cell_type": "code",
   "execution_count": 14,
   "metadata": {
    "colab": {},
    "colab_type": "code",
    "id": "FMq7Vziwz-Z7"
   },
   "outputs": [
    {
     "name": "stdout",
     "output_type": "stream",
     "text": [
      "[[ 0.]\n",
      " [-1.]]\n"
     ]
    }
   ],
   "source": [
    "import numpy as np\n",
    "\n",
    "M = np.matrix([[2, -1], [-1, 1]]) # Declaramos la matriz M\n",
    "b = np.matrix([[1], [-1]]) # Declaramos el vector b\n",
    "\n",
    "print(np.linalg.solve(M, b)) # Resolvemos el sistema Mx=b"
   ]
  },
  {
   "cell_type": "markdown",
   "metadata": {
    "colab_type": "text",
    "id": "xy6rLou75Zun"
   },
   "source": [
    "Esto nos dice que la solución $x$ de nuestro sistema es\n",
    "    \\begin{equation*}\n",
    "        x = \\left(\n",
    "            \\begin{array}{c}\n",
    "                x_{1} \\\\\n",
    "                x_{2} \\\\\n",
    "            \\end{array}\n",
    "        \\right)\n",
    "            =\n",
    "        \\left(\n",
    "            \\begin{array}{r}\n",
    "                0 \\\\\n",
    "                -1 \\\\\n",
    "            \\end{array}\n",
    "        \\right).\n",
    "    \\end{equation*}"
   ]
  },
  {
   "cell_type": "markdown",
   "metadata": {},
   "source": [
    "### Solución a los ejercicios del 30.10.29"
   ]
  },
  {
   "cell_type": "markdown",
   "metadata": {
    "colab_type": "text",
    "id": "_q2XrMHs-GSX"
   },
   "source": [
    "__Ejercicio 1:__ Demuestra que el siguiente conjunto de vectores es linealmente independiente:\n",
    "\n",
    "$$\\{(1,2,-1), (0,1,0), (-3,0,-2)\\}$$\n",
    "\n",
    "\n",
    "Linearidad si $\\lambda{V_{1}}$"
   ]
  },
  {
   "cell_type": "code",
   "execution_count": 3,
   "metadata": {},
   "outputs": [
    {
     "name": "stdout",
     "output_type": "stream",
     "text": [
      "[[0.]\n",
      " [0.]\n",
      " [0.]] \n",
      "\n",
      "QED\n"
     ]
    }
   ],
   "source": [
    "import numpy as np\n",
    "M2=([[1,1,-3],[2,1,0],[-1,0,-2]])\n",
    "b2=([[0],[0],[0]])\n",
    "\n",
    "print(np.linalg.solve(M2,b2), '\\n')\n",
    "print(\"QED\")"
   ]
  },
  {
   "cell_type": "markdown",
   "metadata": {
    "colab_type": "text",
    "id": "Cb2yG2m1-WMq"
   },
   "source": [
    "__Ejercicio 2:__ Escribe como combinación lineal de los vectores del ejercicio 1 el siguiente vector: \n",
    "$$(5,7,-3)$$"
   ]
  },
  {
   "cell_type": "code",
   "execution_count": 39,
   "metadata": {
    "colab": {},
    "colab_type": "code",
    "id": "Vdw2xKrE-41y"
   },
   "outputs": [
    {
     "name": "stdout",
     "output_type": "stream",
     "text": [
      "[[ 3.8]\n",
      " [-0.4]]\n",
      "[[ 5.   7.6 -3. ]]\n",
      "Solución \n",
      " [[ 5.  7. -3.]]\n"
     ]
    }
   ],
   "source": [
    "a1=np.matrix([[1, 2, -1]])\n",
    "a2=np.matrix([[0, 1, 0]])\n",
    "a3=np.matrix([[-3, 0, -2]])\n",
    "\n",
    "# Dado que a2 solo tiene entrada en 1,2 \n",
    "# no afecta y puede tomarse un sistema\n",
    "# de este modo:\n",
    "# 1*x -1*x = 5\n",
    "# -3*y -2*y = -3\n",
    "# Lo que es\n",
    "# 1 -3   x  5\n",
    "# -1 -2  y -3\n",
    "# Que se resuelve así:\n",
    "\n",
    "a4a4=np.matrix([[1, -3], [-1, -2]])\n",
    "bn=np.matrix([[5],[-3]])\n",
    "\n",
    "print(np.linalg.solve(a4, bn))\n",
    "print(3.8*a1 - 0.4*a3) # Comprobamos que funciona\n",
    "print(\"Solución \\n\", 3.8*a1 - 0.6*a2 - 0.4*a3) # y sólo aladimos lo faltante para el termino 12"
   ]
  },
  {
   "cell_type": "markdown",
   "metadata": {
    "colab_type": "text",
    "id": "DOCkORjr-5sC"
   },
   "source": [
    "__Ejercicio 3:__ Utiliza la función `solve` para resolver el sistema de ecuaciones del ejercicio 2."
   ]
  },
  {
   "cell_type": "code",
   "execution_count": 0,
   "metadata": {
    "colab": {},
    "colab_type": "code",
    "id": "Fd4NOAgk_EhW"
   },
   "outputs": [],
   "source": [
    "# No leí la instrucción del ejercicio 3 \n",
    "# e hice el ejercicio 2 con solve D:\n",
    "# sorry"
   ]
  }
 ],
 "metadata": {
  "colab": {
   "collapsed_sections": [],
   "include_colab_link": true,
   "name": "9_Algebra_Matricial_(Basica).ipynb",
   "provenance": []
  },
  "kernelspec": {
   "display_name": "Python 3",
   "language": "python",
   "name": "python3"
  },
  "language_info": {
   "codemirror_mode": {
    "name": "ipython",
    "version": 3
   },
   "file_extension": ".py",
   "mimetype": "text/x-python",
   "name": "python",
   "nbconvert_exporter": "python",
   "pygments_lexer": "ipython3",
   "version": "3.7.5"
  }
 },
 "nbformat": 4,
 "nbformat_minor": 1
}
